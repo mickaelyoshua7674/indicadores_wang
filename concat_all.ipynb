{
 "cells": [
  {
   "cell_type": "code",
   "execution_count": 72,
   "metadata": {},
   "outputs": [],
   "source": [
    "import pandas as pd\n",
    "import os, json"
   ]
  },
  {
   "cell_type": "code",
   "execution_count": 73,
   "metadata": {},
   "outputs": [],
   "source": [
    "COLUMNS_ORDER = [\"Ano\",\"Tipo\",\"Instituição\",\"IBGE\",\"UF\",\"População\",\"Coluna\",\"Conta\",\"Descrição Conta\",\"Identificador da Conta\",\"Valor\"]\n",
    "YEARS = [\"2022\",\"2021\",\"2020\",\"2019\",\"2018\",\"2017\",\"2016\",\"2015\",\"2014\",\"2013\"]\n",
    "DATA_PATH = \"data\"\n",
    "FILES_NAMES = os.listdir(os.path.join(DATA_PATH,\"2022\"))\n",
    "\n",
    "with open(\"file_field.json\", \"r\", encoding=\"latin-1\") as f:\n",
    "    file_field = json.load(f)"
   ]
  },
  {
   "cell_type": "code",
   "execution_count": 74,
   "metadata": {},
   "outputs": [],
   "source": [
    "to_float = lambda x: x.replace(\",\", \".\")\n",
    "\n",
    "def get_conta(x:str) -> str:\n",
    "    sx = x.split(\" - \")\n",
    "    if len(sx) == 1:\n",
    "        return \"Sem Numero\"\n",
    "    return sx[0]\n",
    "\n",
    "def get_des_conta(x:str) -> str:\n",
    "    sx = x.split(\" - \")\n",
    "    if len(sx) == 1:\n",
    "        return x\n",
    "    return sx[1]"
   ]
  },
  {
   "cell_type": "code",
   "execution_count": 75,
   "metadata": {},
   "outputs": [],
   "source": [
    "def read_and_format_df(year:str, file_name:str) -> pd.DataFrame:\n",
    "    file_path = os.path.join(DATA_PATH,year,file_name)\n",
    "    df = pd.read_csv(file_path, sep=\";\", encoding=\"latin-1\", skiprows=3)\n",
    "    df[\"Valor\"] = df[\"Valor\"].apply(to_float)\n",
    "    df[\"Valor\"] = df[\"Valor\"].astype(float)\n",
    "    df[\"Descrição Conta\"] = df[\"Conta\"].apply(get_des_conta)\n",
    "    df[\"Conta\"] = df[\"Conta\"].apply(get_conta)\n",
    "    df[\"Ano\"] = int(year)\n",
    "    df[\"Tipo\"] = file_field[file_name]\n",
    "    df = df.rename(columns={\"Cod.IBGE\":\"IBGE\"})\n",
    "    return df[COLUMNS_ORDER]"
   ]
  },
  {
   "cell_type": "code",
   "execution_count": 76,
   "metadata": {},
   "outputs": [],
   "source": [
    "balanco_patrimonial = pd.concat([read_and_format_df(year,FILES_NAMES[0]) for year in [YEARS[0]]])\n",
    "depesas_orcamentarias = pd.concat([read_and_format_df(year,FILES_NAMES[1]) for year in [YEARS[0]]])\n",
    "despesas_por_funcao = pd.concat([read_and_format_df(year,FILES_NAMES[2]) for year in [YEARS[0]]])\n",
    "execucao_restos_pagar = pd.concat([read_and_format_df(year,FILES_NAMES[3]) for year in [YEARS[0]]])\n",
    "execucao_restos_pagar_funcao = pd.concat([read_and_format_df(year,FILES_NAMES[4]) for year in [YEARS[0]]])\n",
    "receitas_orcamentarias = pd.concat([read_and_format_df(year,FILES_NAMES[5]) for year in [YEARS[0]]])\n",
    "variacoes_patrimoniais = pd.concat([read_and_format_df(year,FILES_NAMES[6]) for year in [YEARS[0]]])"
   ]
  },
  {
   "cell_type": "code",
   "execution_count": 77,
   "metadata": {},
   "outputs": [],
   "source": [
    "full_df = pd.concat([balanco_patrimonial,\n",
    "                     depesas_orcamentarias,\n",
    "                     despesas_por_funcao,\n",
    "                     execucao_restos_pagar,\n",
    "                     execucao_restos_pagar_funcao,\n",
    "                     receitas_orcamentarias,\n",
    "                     variacoes_patrimoniais])"
   ]
  },
  {
   "cell_type": "code",
   "execution_count": 78,
   "metadata": {},
   "outputs": [
    {
     "data": {
      "text/html": [
       "<div>\n",
       "<style scoped>\n",
       "    .dataframe tbody tr th:only-of-type {\n",
       "        vertical-align: middle;\n",
       "    }\n",
       "\n",
       "    .dataframe tbody tr th {\n",
       "        vertical-align: top;\n",
       "    }\n",
       "\n",
       "    .dataframe thead th {\n",
       "        text-align: right;\n",
       "    }\n",
       "</style>\n",
       "<table border=\"1\" class=\"dataframe\">\n",
       "  <thead>\n",
       "    <tr style=\"text-align: right;\">\n",
       "      <th></th>\n",
       "      <th>Ano</th>\n",
       "      <th>Tipo</th>\n",
       "      <th>Instituição</th>\n",
       "      <th>IBGE</th>\n",
       "      <th>UF</th>\n",
       "      <th>População</th>\n",
       "      <th>Coluna</th>\n",
       "      <th>Conta</th>\n",
       "      <th>Descrição Conta</th>\n",
       "      <th>Identificador da Conta</th>\n",
       "      <th>Valor</th>\n",
       "    </tr>\n",
       "  </thead>\n",
       "  <tbody>\n",
       "    <tr>\n",
       "      <th>727919</th>\n",
       "      <td>2022</td>\n",
       "      <td>VariaÃ§Ãµes Patrimoniais</td>\n",
       "      <td>Prefeitura Municipal de Delta - MG</td>\n",
       "      <td>3121258</td>\n",
       "      <td>MG</td>\n",
       "      <td>10994</td>\n",
       "      <td>31/12/2022</td>\n",
       "      <td>4.9.9.6.0.00.00</td>\n",
       "      <td>Indenizações</td>\n",
       "      <td>siconfi-cor_P4.9.9.6.0.00.00</td>\n",
       "      <td>92957.12</td>\n",
       "    </tr>\n",
       "    <tr>\n",
       "      <th>727920</th>\n",
       "      <td>2022</td>\n",
       "      <td>VariaÃ§Ãµes Patrimoniais</td>\n",
       "      <td>Prefeitura Municipal de Delta - MG</td>\n",
       "      <td>3121258</td>\n",
       "      <td>MG</td>\n",
       "      <td>10994</td>\n",
       "      <td>31/12/2022</td>\n",
       "      <td>4.9.9.6.1.00.00</td>\n",
       "      <td>Indenizações</td>\n",
       "      <td>siconfi-cor_P4.9.9.6.1.00.00</td>\n",
       "      <td>92957.12</td>\n",
       "    </tr>\n",
       "    <tr>\n",
       "      <th>727921</th>\n",
       "      <td>2022</td>\n",
       "      <td>VariaÃ§Ãµes Patrimoniais</td>\n",
       "      <td>Prefeitura Municipal de Delta - MG</td>\n",
       "      <td>3121258</td>\n",
       "      <td>MG</td>\n",
       "      <td>10994</td>\n",
       "      <td>31/12/2022</td>\n",
       "      <td>4.9.9.9.0.00.00</td>\n",
       "      <td>Variações Patrimoniais Aumentativas Decorrente...</td>\n",
       "      <td>siconfi-cor_P4.9.9.9.0.00.00</td>\n",
       "      <td>151859.17</td>\n",
       "    </tr>\n",
       "    <tr>\n",
       "      <th>727922</th>\n",
       "      <td>2022</td>\n",
       "      <td>VariaÃ§Ãµes Patrimoniais</td>\n",
       "      <td>Prefeitura Municipal de Delta - MG</td>\n",
       "      <td>3121258</td>\n",
       "      <td>MG</td>\n",
       "      <td>10994</td>\n",
       "      <td>31/12/2022</td>\n",
       "      <td>4.9.9.9.1.00.00</td>\n",
       "      <td>Variações Patrimoniais Aumentativas Decorrente...</td>\n",
       "      <td>siconfi-cor_P4.9.9.9.1.00.00</td>\n",
       "      <td>151859.17</td>\n",
       "    </tr>\n",
       "    <tr>\n",
       "      <th>727923</th>\n",
       "      <td>2022</td>\n",
       "      <td>VariaÃ§Ãµes Patrimoniais</td>\n",
       "      <td>Prefeitura Municipal de Delta - MG</td>\n",
       "      <td>3121258</td>\n",
       "      <td>MG</td>\n",
       "      <td>10994</td>\n",
       "      <td>31/12/2022</td>\n",
       "      <td>Sem Numero</td>\n",
       "      <td>Resultado Patrimonial do Período</td>\n",
       "      <td>siconfi-cor_ResultadoPatrimonialDoPeriodo</td>\n",
       "      <td>12502832.90</td>\n",
       "    </tr>\n",
       "  </tbody>\n",
       "</table>\n",
       "</div>"
      ],
      "text/plain": [
       "         Ano                      Tipo                         Instituição  \\\n",
       "727919  2022  VariaÃ§Ãµes Patrimoniais  Prefeitura Municipal de Delta - MG   \n",
       "727920  2022  VariaÃ§Ãµes Patrimoniais  Prefeitura Municipal de Delta - MG   \n",
       "727921  2022  VariaÃ§Ãµes Patrimoniais  Prefeitura Municipal de Delta - MG   \n",
       "727922  2022  VariaÃ§Ãµes Patrimoniais  Prefeitura Municipal de Delta - MG   \n",
       "727923  2022  VariaÃ§Ãµes Patrimoniais  Prefeitura Municipal de Delta - MG   \n",
       "\n",
       "           IBGE  UF  População      Coluna            Conta  \\\n",
       "727919  3121258  MG      10994  31/12/2022  4.9.9.6.0.00.00   \n",
       "727920  3121258  MG      10994  31/12/2022  4.9.9.6.1.00.00   \n",
       "727921  3121258  MG      10994  31/12/2022  4.9.9.9.0.00.00   \n",
       "727922  3121258  MG      10994  31/12/2022  4.9.9.9.1.00.00   \n",
       "727923  3121258  MG      10994  31/12/2022       Sem Numero   \n",
       "\n",
       "                                          Descrição Conta  \\\n",
       "727919                                       Indenizações   \n",
       "727920                                       Indenizações   \n",
       "727921  Variações Patrimoniais Aumentativas Decorrente...   \n",
       "727922  Variações Patrimoniais Aumentativas Decorrente...   \n",
       "727923                   Resultado Patrimonial do Período   \n",
       "\n",
       "                           Identificador da Conta        Valor  \n",
       "727919               siconfi-cor_P4.9.9.6.0.00.00     92957.12  \n",
       "727920               siconfi-cor_P4.9.9.6.1.00.00     92957.12  \n",
       "727921               siconfi-cor_P4.9.9.9.0.00.00    151859.17  \n",
       "727922               siconfi-cor_P4.9.9.9.1.00.00    151859.17  \n",
       "727923  siconfi-cor_ResultadoPatrimonialDoPeriodo  12502832.90  "
      ]
     },
     "execution_count": 78,
     "metadata": {},
     "output_type": "execute_result"
    }
   ],
   "source": [
    "full_df.tail()"
   ]
  },
  {
   "cell_type": "code",
   "execution_count": 79,
   "metadata": {},
   "outputs": [
    {
     "data": {
      "text/plain": [
       "Ano                         int64\n",
       "Tipo                       object\n",
       "Instituição                object\n",
       "IBGE                        int64\n",
       "UF                         object\n",
       "População                   int64\n",
       "Coluna                     object\n",
       "Conta                      object\n",
       "Descrição Conta            object\n",
       "Identificador da Conta     object\n",
       "Valor                     float64\n",
       "dtype: object"
      ]
     },
     "execution_count": 79,
     "metadata": {},
     "output_type": "execute_result"
    }
   ],
   "source": [
    "full_df.dtypes"
   ]
  },
  {
   "cell_type": "code",
   "execution_count": 80,
   "metadata": {},
   "outputs": [
    {
     "data": {
      "text/plain": [
       "41"
      ]
     },
     "execution_count": 80,
     "metadata": {},
     "output_type": "execute_result"
    }
   ],
   "source": [
    "full_df[\"Tipo\"].str.len().max()"
   ]
  }
 ],
 "metadata": {
  "kernelspec": {
   "display_name": ".venv",
   "language": "python",
   "name": "python3"
  },
  "language_info": {
   "codemirror_mode": {
    "name": "ipython",
    "version": 3
   },
   "file_extension": ".py",
   "mimetype": "text/x-python",
   "name": "python",
   "nbconvert_exporter": "python",
   "pygments_lexer": "ipython3",
   "version": "3.11.5"
  },
  "orig_nbformat": 4
 },
 "nbformat": 4,
 "nbformat_minor": 2
}
