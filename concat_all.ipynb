{
 "cells": [
  {
   "cell_type": "code",
   "execution_count": 39,
   "metadata": {},
   "outputs": [],
   "source": [
    "import dask.dataframe as dd\n",
    "import pandas as pd\n",
    "import os, json"
   ]
  },
  {
   "cell_type": "code",
   "execution_count": 40,
   "metadata": {},
   "outputs": [
    {
     "data": {
      "text/plain": [
       "<dask.config.set at 0x1d141306710>"
      ]
     },
     "execution_count": 40,
     "metadata": {},
     "output_type": "execute_result"
    }
   ],
   "source": [
    "import dask\n",
    "dask.config.set(scheduler=\"processes\")"
   ]
  },
  {
   "cell_type": "code",
   "execution_count": 41,
   "metadata": {},
   "outputs": [],
   "source": [
    "COLUMNS_ORDER = [\"Ano\",\"Tipo\",\"Instituição\",\"Cod.IBGE\",\"UF\",\"População\",\"Coluna\",\"Conta\",\"Descrição Conta\",\"Identificador da Conta\",\"Valor\"]\n",
    "YEARS = [\"2022\",\"2021\",\"2020\",\"2019\",\"2018\",\"2017\",\"2016\",\"2015\",\"2014\",\"2013\"]\n",
    "DATA_PATH = \"data\"\n",
    "FILES_NAMES = os.listdir(os.path.join(DATA_PATH,\"2022\"))\n",
    "\n",
    "with open(\"file_field.json\", \"r\") as f:\n",
    "    file_field = json.load(f)"
   ]
  },
  {
   "cell_type": "code",
   "execution_count": 42,
   "metadata": {},
   "outputs": [],
   "source": [
    "to_float = lambda x: x.replace(\",\", \".\")\n",
    "\n",
    "def get_conta(x:str) -> str:\n",
    "    sx = x.split(\" - \")\n",
    "    if len(sx) == 1:\n",
    "        return \"Sem Numero\"\n",
    "    return sx[0]\n",
    "\n",
    "def get_des_conta(x:str) -> str:\n",
    "    sx = x.split(\" - \")\n",
    "    if len(sx) == 1:\n",
    "        return x\n",
    "    return sx[1]"
   ]
  },
  {
   "cell_type": "code",
   "execution_count": 43,
   "metadata": {},
   "outputs": [],
   "source": [
    "def read_and_format_ddf(year:str, file_name:str) -> dask.dataframe:\n",
    "    file_path = os.path.join(DATA_PATH,year,file_name)\n",
    "    ddf = dd.read_csv(file_path, sep=\";\", encoding=\"latin-1\", skiprows=3)\n",
    "    ddf[\"Valor\"] = ddf[\"Valor\"].apply(to_float, meta=pd.Series(name=\"Valor\",dtype=str)).astype(float)\n",
    "    ddf[\"Descrição Conta\"] = ddf[\"Conta\"].apply(get_des_conta, meta=pd.Series(name=\"Conta\",dtype=str))\n",
    "    ddf[\"Conta\"] = ddf[\"Conta\"].apply(get_conta, meta=pd.Series(name=\"Conta\",dtype=str))\n",
    "    ddf[\"Ano\"] = year\n",
    "    ddf[\"Tipo\"] = file_field[file_name].encode(\"latin-1\")\n",
    "    return ddf[COLUMNS_ORDER]"
   ]
  },
  {
   "cell_type": "code",
   "execution_count": 44,
   "metadata": {},
   "outputs": [],
   "source": [
    "balanco_patrimonial = dd.concat([read_and_format_ddf(year,FILES_NAMES[0]) for year in YEARS])\n",
    "depesas_orcamentarias = dd.concat([read_and_format_ddf(year,FILES_NAMES[1]) for year in YEARS])\n",
    "despesas_por_funcao = dd.concat([read_and_format_ddf(year,FILES_NAMES[2]) for year in YEARS])\n",
    "execucao_restos_pagar = dd.concat([read_and_format_ddf(year,FILES_NAMES[3]) for year in YEARS])\n",
    "execucao_restos_pagar_funcao = dd.concat([read_and_format_ddf(year,FILES_NAMES[4]) for year in YEARS])\n",
    "receitas_orcamentarias = dd.concat([read_and_format_ddf(year,FILES_NAMES[5]) for year in YEARS])\n",
    "variacoes_patrimoniais = dd.concat([read_and_format_ddf(year,FILES_NAMES[6]) for year in YEARS])"
   ]
  },
  {
   "cell_type": "code",
   "execution_count": 45,
   "metadata": {},
   "outputs": [],
   "source": [
    "full_ddf = dd.concat([balanco_patrimonial,\n",
    "                      depesas_orcamentarias,\n",
    "                      despesas_por_funcao,\n",
    "                      execucao_restos_pagar,\n",
    "                      execucao_restos_pagar_funcao,\n",
    "                      receitas_orcamentarias,\n",
    "                      variacoes_patrimoniais])"
   ]
  },
  {
   "cell_type": "code",
   "execution_count": 46,
   "metadata": {},
   "outputs": [
    {
     "data": {
      "text/html": [
       "<div>\n",
       "<style scoped>\n",
       "    .dataframe tbody tr th:only-of-type {\n",
       "        vertical-align: middle;\n",
       "    }\n",
       "\n",
       "    .dataframe tbody tr th {\n",
       "        vertical-align: top;\n",
       "    }\n",
       "\n",
       "    .dataframe thead th {\n",
       "        text-align: right;\n",
       "    }\n",
       "</style>\n",
       "<table border=\"1\" class=\"dataframe\">\n",
       "  <thead>\n",
       "    <tr style=\"text-align: right;\">\n",
       "      <th></th>\n",
       "      <th>Ano</th>\n",
       "      <th>Tipo</th>\n",
       "      <th>Instituição</th>\n",
       "      <th>Cod.IBGE</th>\n",
       "      <th>UF</th>\n",
       "      <th>População</th>\n",
       "      <th>Coluna</th>\n",
       "      <th>Conta</th>\n",
       "      <th>Descrição Conta</th>\n",
       "      <th>Identificador da Conta</th>\n",
       "      <th>Valor</th>\n",
       "    </tr>\n",
       "  </thead>\n",
       "  <tbody>\n",
       "    <tr>\n",
       "      <th>278599</th>\n",
       "      <td>2013</td>\n",
       "      <td>Variações Patrimoniais</td>\n",
       "      <td>Prefeitura Municipal de São Sebastião do Umbuz...</td>\n",
       "      <td>2515203</td>\n",
       "      <td>PB</td>\n",
       "      <td>3380</td>\n",
       "      <td>31/12/2013</td>\n",
       "      <td>4.0.0.0.0.00.00</td>\n",
       "      <td>Variação Patrimonial Aumentativa</td>\n",
       "      <td>siconfi-cor_P4.0.0.0.0.00.00</td>\n",
       "      <td>11495462.69</td>\n",
       "    </tr>\n",
       "    <tr>\n",
       "      <th>278600</th>\n",
       "      <td>2013</td>\n",
       "      <td>Variações Patrimoniais</td>\n",
       "      <td>Prefeitura Municipal de São Sebastião do Umbuz...</td>\n",
       "      <td>2515203</td>\n",
       "      <td>PB</td>\n",
       "      <td>3380</td>\n",
       "      <td>31/12/2013</td>\n",
       "      <td>4.1.0.0.0.00.00</td>\n",
       "      <td>Impostos, Taxas e Contribuições de Melhoria</td>\n",
       "      <td>siconfi-cor_P4.1.0.0.0.00.00</td>\n",
       "      <td>11495462.69</td>\n",
       "    </tr>\n",
       "    <tr>\n",
       "      <th>278601</th>\n",
       "      <td>2013</td>\n",
       "      <td>Variações Patrimoniais</td>\n",
       "      <td>Prefeitura Municipal de São Sebastião do Umbuz...</td>\n",
       "      <td>2515203</td>\n",
       "      <td>PB</td>\n",
       "      <td>3380</td>\n",
       "      <td>31/12/2013</td>\n",
       "      <td>4.1.1.0.0.00.00</td>\n",
       "      <td>Impostos</td>\n",
       "      <td>siconfi-cor_P4.1.1.0.0.00.00</td>\n",
       "      <td>11495462.69</td>\n",
       "    </tr>\n",
       "    <tr>\n",
       "      <th>278602</th>\n",
       "      <td>2013</td>\n",
       "      <td>Variações Patrimoniais</td>\n",
       "      <td>Prefeitura Municipal de São Sebastião do Umbuz...</td>\n",
       "      <td>2515203</td>\n",
       "      <td>PB</td>\n",
       "      <td>3380</td>\n",
       "      <td>31/12/2013</td>\n",
       "      <td>4.1.1.2.0.00.00</td>\n",
       "      <td>Impostos sobre Patrimônio e a Renda</td>\n",
       "      <td>siconfi-cor_P4.1.1.2.0.00.00</td>\n",
       "      <td>11495462.69</td>\n",
       "    </tr>\n",
       "    <tr>\n",
       "      <th>278603</th>\n",
       "      <td>2013</td>\n",
       "      <td>Variações Patrimoniais</td>\n",
       "      <td>Prefeitura Municipal de São Sebastião do Umbuz...</td>\n",
       "      <td>2515203</td>\n",
       "      <td>PB</td>\n",
       "      <td>3380</td>\n",
       "      <td>31/12/2013</td>\n",
       "      <td>4.1.1.2.1.00.00</td>\n",
       "      <td>Impostos sobre Patrimônio e a Renda</td>\n",
       "      <td>siconfi-cor_P4.1.1.2.1.00.00</td>\n",
       "      <td>11495462.69</td>\n",
       "    </tr>\n",
       "  </tbody>\n",
       "</table>\n",
       "</div>"
      ],
      "text/plain": [
       "         Ano                    Tipo  \\\n",
       "278599  2013  Variações Patrimoniais   \n",
       "278600  2013  Variações Patrimoniais   \n",
       "278601  2013  Variações Patrimoniais   \n",
       "278602  2013  Variações Patrimoniais   \n",
       "278603  2013  Variações Patrimoniais   \n",
       "\n",
       "                                              Instituição  Cod.IBGE  UF  \\\n",
       "278599  Prefeitura Municipal de São Sebastião do Umbuz...   2515203  PB   \n",
       "278600  Prefeitura Municipal de São Sebastião do Umbuz...   2515203  PB   \n",
       "278601  Prefeitura Municipal de São Sebastião do Umbuz...   2515203  PB   \n",
       "278602  Prefeitura Municipal de São Sebastião do Umbuz...   2515203  PB   \n",
       "278603  Prefeitura Municipal de São Sebastião do Umbuz...   2515203  PB   \n",
       "\n",
       "        População      Coluna            Conta  \\\n",
       "278599       3380  31/12/2013  4.0.0.0.0.00.00   \n",
       "278600       3380  31/12/2013  4.1.0.0.0.00.00   \n",
       "278601       3380  31/12/2013  4.1.1.0.0.00.00   \n",
       "278602       3380  31/12/2013  4.1.1.2.0.00.00   \n",
       "278603       3380  31/12/2013  4.1.1.2.1.00.00   \n",
       "\n",
       "                                    Descrição Conta  \\\n",
       "278599             Variação Patrimonial Aumentativa   \n",
       "278600  Impostos, Taxas e Contribuições de Melhoria   \n",
       "278601                                     Impostos   \n",
       "278602          Impostos sobre Patrimônio e a Renda   \n",
       "278603          Impostos sobre Patrimônio e a Renda   \n",
       "\n",
       "              Identificador da Conta        Valor  \n",
       "278599  siconfi-cor_P4.0.0.0.0.00.00  11495462.69  \n",
       "278600  siconfi-cor_P4.1.0.0.0.00.00  11495462.69  \n",
       "278601  siconfi-cor_P4.1.1.0.0.00.00  11495462.69  \n",
       "278602  siconfi-cor_P4.1.1.2.0.00.00  11495462.69  \n",
       "278603  siconfi-cor_P4.1.1.2.1.00.00  11495462.69  "
      ]
     },
     "execution_count": 46,
     "metadata": {},
     "output_type": "execute_result"
    }
   ],
   "source": [
    "full_ddf.tail()"
   ]
  },
  {
   "cell_type": "code",
   "execution_count": null,
   "metadata": {},
   "outputs": [],
   "source": []
  }
 ],
 "metadata": {
  "kernelspec": {
   "display_name": ".venv",
   "language": "python",
   "name": "python3"
  },
  "language_info": {
   "codemirror_mode": {
    "name": "ipython",
    "version": 3
   },
   "file_extension": ".py",
   "mimetype": "text/x-python",
   "name": "python",
   "nbconvert_exporter": "python",
   "pygments_lexer": "ipython3",
   "version": "3.11.5"
  },
  "orig_nbformat": 4
 },
 "nbformat": 4,
 "nbformat_minor": 2
}
