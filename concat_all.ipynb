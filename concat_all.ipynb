{
 "cells": [
  {
   "cell_type": "code",
   "execution_count": 94,
   "metadata": {},
   "outputs": [],
   "source": [
    "import pandas as pd\n",
    "import os, json"
   ]
  },
  {
   "cell_type": "code",
   "execution_count": 95,
   "metadata": {},
   "outputs": [],
   "source": [
    "COLUMNS_ORDER = [\"Ano\",\"Tipo\",\"Instituição\",\"IBGE\",\"UF\",\"População\",\"Coluna\",\"Conta\",\"Descrição Conta\",\"Identificador da Conta\",\"Valor\"]\n",
    "YEARS = [\"2022\",\"2021\",\"2020\",\"2019\",\"2018\",\"2017\",\"2016\",\"2015\",\"2014\",\"2013\"]\n",
    "DATA_PATH = \"data\"\n",
    "FILES_NAMES = os.listdir(os.path.join(DATA_PATH,\"2022\"))\n",
    "\n",
    "with open(\"file_field.json\", \"r\", encoding=\"latin-1\") as f:\n",
    "    file_field = json.load(f)"
   ]
  },
  {
   "cell_type": "code",
   "execution_count": 96,
   "metadata": {},
   "outputs": [],
   "source": [
    "to_float = lambda x: x.replace(\",\", \".\")\n",
    "\n",
    "def get_conta(x:str) -> str:\n",
    "    sx = x.split(\" - \")\n",
    "    if len(sx) == 1:\n",
    "        return \"Sem Numero\"\n",
    "    return sx[0]\n",
    "\n",
    "def get_des_conta(x:str) -> str:\n",
    "    sx = x.split(\" - \")\n",
    "    if len(sx) == 1:\n",
    "        return x\n",
    "    return sx[1]"
   ]
  },
  {
   "cell_type": "code",
   "execution_count": 97,
   "metadata": {},
   "outputs": [],
   "source": [
    "def read_and_format_df(year:str, file_name:str) -> pd.DataFrame:\n",
    "    file_path = os.path.join(DATA_PATH,year,file_name)\n",
    "    df = pd.read_csv(file_path, sep=\";\", encoding=\"latin-1\", skiprows=3)\n",
    "    df[\"Valor\"] = df[\"Valor\"].apply(to_float)\n",
    "    df[\"Valor\"] = df[\"Valor\"].astype(float)\n",
    "    df[\"Descrição Conta\"] = df[\"Conta\"].apply(get_des_conta)\n",
    "    df[\"Conta\"] = df[\"Conta\"].apply(get_conta)\n",
    "    df[\"Ano\"] = int(year)\n",
    "    df[\"Tipo\"] = file_field[file_name]\n",
    "    df = df.rename(columns={\"Cod.IBGE\":\"IBGE\"})\n",
    "    return df[COLUMNS_ORDER]"
   ]
  },
  {
   "cell_type": "code",
   "execution_count": 98,
   "metadata": {},
   "outputs": [
    {
     "name": "stdout",
     "output_type": "stream",
     "text": [
      "Index(['Instituiτπo', 'Cod.IBGE', 'UF', 'Populaτπo', 'Coluna', 'Conta',\n",
      "       'Identificador da Conta', 'Valor', 'Descrição Conta', 'Ano', 'Tipo'],\n",
      "      dtype='object')\n"
     ]
    },
    {
     "ename": "KeyError",
     "evalue": "\"['Instituição', 'População'] not in index\"",
     "output_type": "error",
     "traceback": [
      "\u001b[1;31m---------------------------------------------------------------------------\u001b[0m",
      "\u001b[1;31mKeyError\u001b[0m                                  Traceback (most recent call last)",
      "\u001b[1;32mc:\\Users\\mreis\\Documents\\Projetos\\indicadores_wang\\concat_all.ipynb Cell 5\u001b[0m line \u001b[0;36m1\n\u001b[1;32m----> <a href='vscode-notebook-cell:/c%3A/Users/mreis/Documents/Projetos/indicadores_wang/concat_all.ipynb#W5sZmlsZQ%3D%3D?line=0'>1</a>\u001b[0m balanco_patrimonial \u001b[39m=\u001b[39m pd\u001b[39m.\u001b[39mconcat([read_and_format_df(year,FILES_NAMES[\u001b[39m0\u001b[39;49m]) \u001b[39mfor\u001b[39;49;00m year \u001b[39min\u001b[39;49;00m [YEARS[\u001b[39m0\u001b[39;49m]]])\n\u001b[0;32m      <a href='vscode-notebook-cell:/c%3A/Users/mreis/Documents/Projetos/indicadores_wang/concat_all.ipynb#W5sZmlsZQ%3D%3D?line=1'>2</a>\u001b[0m depesas_orcamentarias \u001b[39m=\u001b[39m pd\u001b[39m.\u001b[39mconcat([read_and_format_df(year,FILES_NAMES[\u001b[39m1\u001b[39m]) \u001b[39mfor\u001b[39;00m year \u001b[39min\u001b[39;00m [YEARS[\u001b[39m0\u001b[39m]]])\n\u001b[0;32m      <a href='vscode-notebook-cell:/c%3A/Users/mreis/Documents/Projetos/indicadores_wang/concat_all.ipynb#W5sZmlsZQ%3D%3D?line=2'>3</a>\u001b[0m despesas_por_funcao \u001b[39m=\u001b[39m pd\u001b[39m.\u001b[39mconcat([read_and_format_df(year,FILES_NAMES[\u001b[39m2\u001b[39m]) \u001b[39mfor\u001b[39;00m year \u001b[39min\u001b[39;00m [YEARS[\u001b[39m0\u001b[39m]]])\n",
      "\u001b[1;32mc:\\Users\\mreis\\Documents\\Projetos\\indicadores_wang\\concat_all.ipynb Cell 5\u001b[0m line \u001b[0;36m1\n\u001b[1;32m----> <a href='vscode-notebook-cell:/c%3A/Users/mreis/Documents/Projetos/indicadores_wang/concat_all.ipynb#W5sZmlsZQ%3D%3D?line=0'>1</a>\u001b[0m balanco_patrimonial \u001b[39m=\u001b[39m pd\u001b[39m.\u001b[39mconcat([read_and_format_df(year,FILES_NAMES[\u001b[39m0\u001b[39;49m]) \u001b[39mfor\u001b[39;00m year \u001b[39min\u001b[39;00m [YEARS[\u001b[39m0\u001b[39m]]])\n\u001b[0;32m      <a href='vscode-notebook-cell:/c%3A/Users/mreis/Documents/Projetos/indicadores_wang/concat_all.ipynb#W5sZmlsZQ%3D%3D?line=1'>2</a>\u001b[0m depesas_orcamentarias \u001b[39m=\u001b[39m pd\u001b[39m.\u001b[39mconcat([read_and_format_df(year,FILES_NAMES[\u001b[39m1\u001b[39m]) \u001b[39mfor\u001b[39;00m year \u001b[39min\u001b[39;00m [YEARS[\u001b[39m0\u001b[39m]]])\n\u001b[0;32m      <a href='vscode-notebook-cell:/c%3A/Users/mreis/Documents/Projetos/indicadores_wang/concat_all.ipynb#W5sZmlsZQ%3D%3D?line=2'>3</a>\u001b[0m despesas_por_funcao \u001b[39m=\u001b[39m pd\u001b[39m.\u001b[39mconcat([read_and_format_df(year,FILES_NAMES[\u001b[39m2\u001b[39m]) \u001b[39mfor\u001b[39;00m year \u001b[39min\u001b[39;00m [YEARS[\u001b[39m0\u001b[39m]]])\n",
      "\u001b[1;32mc:\\Users\\mreis\\Documents\\Projetos\\indicadores_wang\\concat_all.ipynb Cell 5\u001b[0m line \u001b[0;36m1\n\u001b[0;32m     <a href='vscode-notebook-cell:/c%3A/Users/mreis/Documents/Projetos/indicadores_wang/concat_all.ipynb#W5sZmlsZQ%3D%3D?line=10'>11</a>\u001b[0m exit()\n\u001b[0;32m     <a href='vscode-notebook-cell:/c%3A/Users/mreis/Documents/Projetos/indicadores_wang/concat_all.ipynb#W5sZmlsZQ%3D%3D?line=11'>12</a>\u001b[0m df \u001b[39m=\u001b[39m df\u001b[39m.\u001b[39mrename(columns\u001b[39m=\u001b[39m{\u001b[39m\"\u001b[39m\u001b[39mCod.IBGE\u001b[39m\u001b[39m\"\u001b[39m:\u001b[39m\"\u001b[39m\u001b[39mIBGE\u001b[39m\u001b[39m\"\u001b[39m})\n\u001b[1;32m---> <a href='vscode-notebook-cell:/c%3A/Users/mreis/Documents/Projetos/indicadores_wang/concat_all.ipynb#W5sZmlsZQ%3D%3D?line=12'>13</a>\u001b[0m \u001b[39mreturn\u001b[39;00m df[COLUMNS_ORDER]\n",
      "File \u001b[1;32mc:\\Users\\mreis\\Documents\\Projetos\\indicadores_wang\\.venv\\Lib\\site-packages\\pandas\\core\\frame.py:3902\u001b[0m, in \u001b[0;36mDataFrame.__getitem__\u001b[1;34m(self, key)\u001b[0m\n\u001b[0;32m   3900\u001b[0m     \u001b[39mif\u001b[39;00m is_iterator(key):\n\u001b[0;32m   3901\u001b[0m         key \u001b[39m=\u001b[39m \u001b[39mlist\u001b[39m(key)\n\u001b[1;32m-> 3902\u001b[0m     indexer \u001b[39m=\u001b[39m \u001b[39mself\u001b[39;49m\u001b[39m.\u001b[39;49mcolumns\u001b[39m.\u001b[39;49m_get_indexer_strict(key, \u001b[39m\"\u001b[39;49m\u001b[39mcolumns\u001b[39;49m\u001b[39m\"\u001b[39;49m)[\u001b[39m1\u001b[39m]\n\u001b[0;32m   3904\u001b[0m \u001b[39m# take() does not accept boolean indexers\u001b[39;00m\n\u001b[0;32m   3905\u001b[0m \u001b[39mif\u001b[39;00m \u001b[39mgetattr\u001b[39m(indexer, \u001b[39m\"\u001b[39m\u001b[39mdtype\u001b[39m\u001b[39m\"\u001b[39m, \u001b[39mNone\u001b[39;00m) \u001b[39m==\u001b[39m \u001b[39mbool\u001b[39m:\n",
      "File \u001b[1;32mc:\\Users\\mreis\\Documents\\Projetos\\indicadores_wang\\.venv\\Lib\\site-packages\\pandas\\core\\indexes\\base.py:6114\u001b[0m, in \u001b[0;36mIndex._get_indexer_strict\u001b[1;34m(self, key, axis_name)\u001b[0m\n\u001b[0;32m   6111\u001b[0m \u001b[39melse\u001b[39;00m:\n\u001b[0;32m   6112\u001b[0m     keyarr, indexer, new_indexer \u001b[39m=\u001b[39m \u001b[39mself\u001b[39m\u001b[39m.\u001b[39m_reindex_non_unique(keyarr)\n\u001b[1;32m-> 6114\u001b[0m \u001b[39mself\u001b[39;49m\u001b[39m.\u001b[39;49m_raise_if_missing(keyarr, indexer, axis_name)\n\u001b[0;32m   6116\u001b[0m keyarr \u001b[39m=\u001b[39m \u001b[39mself\u001b[39m\u001b[39m.\u001b[39mtake(indexer)\n\u001b[0;32m   6117\u001b[0m \u001b[39mif\u001b[39;00m \u001b[39misinstance\u001b[39m(key, Index):\n\u001b[0;32m   6118\u001b[0m     \u001b[39m# GH 42790 - Preserve name from an Index\u001b[39;00m\n",
      "File \u001b[1;32mc:\\Users\\mreis\\Documents\\Projetos\\indicadores_wang\\.venv\\Lib\\site-packages\\pandas\\core\\indexes\\base.py:6178\u001b[0m, in \u001b[0;36mIndex._raise_if_missing\u001b[1;34m(self, key, indexer, axis_name)\u001b[0m\n\u001b[0;32m   6175\u001b[0m     \u001b[39mraise\u001b[39;00m \u001b[39mKeyError\u001b[39;00m(\u001b[39mf\u001b[39m\u001b[39m\"\u001b[39m\u001b[39mNone of [\u001b[39m\u001b[39m{\u001b[39;00mkey\u001b[39m}\u001b[39;00m\u001b[39m] are in the [\u001b[39m\u001b[39m{\u001b[39;00maxis_name\u001b[39m}\u001b[39;00m\u001b[39m]\u001b[39m\u001b[39m\"\u001b[39m)\n\u001b[0;32m   6177\u001b[0m not_found \u001b[39m=\u001b[39m \u001b[39mlist\u001b[39m(ensure_index(key)[missing_mask\u001b[39m.\u001b[39mnonzero()[\u001b[39m0\u001b[39m]]\u001b[39m.\u001b[39munique())\n\u001b[1;32m-> 6178\u001b[0m \u001b[39mraise\u001b[39;00m \u001b[39mKeyError\u001b[39;00m(\u001b[39mf\u001b[39m\u001b[39m\"\u001b[39m\u001b[39m{\u001b[39;00mnot_found\u001b[39m}\u001b[39;00m\u001b[39m not in index\u001b[39m\u001b[39m\"\u001b[39m)\n",
      "\u001b[1;31mKeyError\u001b[0m: \"['Instituição', 'População'] not in index\""
     ]
    },
    {
     "ename": "",
     "evalue": "",
     "output_type": "error",
     "traceback": [
      "\u001b[1;31mThe Kernel crashed while executing code in the the current cell or a previous cell. Please review the code in the cell(s) to identify a possible cause of the failure. Click <a href='https://aka.ms/vscodeJupyterKernelCrash'>here</a> for more info. View Jupyter <a href='command:jupyter.viewOutput'>log</a> for further details."
     ]
    }
   ],
   "source": [
    "balanco_patrimonial = pd.concat([read_and_format_df(year,FILES_NAMES[0]) for year in [YEARS[0]]])\n",
    "depesas_orcamentarias = pd.concat([read_and_format_df(year,FILES_NAMES[1]) for year in [YEARS[0]]])\n",
    "despesas_por_funcao = pd.concat([read_and_format_df(year,FILES_NAMES[2]) for year in [YEARS[0]]])\n",
    "execucao_restos_pagar = pd.concat([read_and_format_df(year,FILES_NAMES[3]) for year in [YEARS[0]]])\n",
    "execucao_restos_pagar_funcao = pd.concat([read_and_format_df(year,FILES_NAMES[4]) for year in [YEARS[0]]])\n",
    "receitas_orcamentarias = pd.concat([read_and_format_df(year,FILES_NAMES[5]) for year in [YEARS[0]]])\n",
    "variacoes_patrimoniais = pd.concat([read_and_format_df(year,FILES_NAMES[6]) for year in [YEARS[0]]])"
   ]
  },
  {
   "cell_type": "code",
   "execution_count": null,
   "metadata": {},
   "outputs": [],
   "source": [
    "full_df = pd.concat([balanco_patrimonial,\n",
    "                     depesas_orcamentarias,\n",
    "                     despesas_por_funcao,\n",
    "                     execucao_restos_pagar,\n",
    "                     execucao_restos_pagar_funcao,\n",
    "                     receitas_orcamentarias,\n",
    "                     variacoes_patrimoniais])"
   ]
  },
  {
   "cell_type": "code",
   "execution_count": null,
   "metadata": {},
   "outputs": [
    {
     "data": {
      "text/html": [
       "<div>\n",
       "<style scoped>\n",
       "    .dataframe tbody tr th:only-of-type {\n",
       "        vertical-align: middle;\n",
       "    }\n",
       "\n",
       "    .dataframe tbody tr th {\n",
       "        vertical-align: top;\n",
       "    }\n",
       "\n",
       "    .dataframe thead th {\n",
       "        text-align: right;\n",
       "    }\n",
       "</style>\n",
       "<table border=\"1\" class=\"dataframe\">\n",
       "  <thead>\n",
       "    <tr style=\"text-align: right;\">\n",
       "      <th></th>\n",
       "      <th>Ano</th>\n",
       "      <th>Tipo</th>\n",
       "      <th>Instituição</th>\n",
       "      <th>IBGE</th>\n",
       "      <th>UF</th>\n",
       "      <th>População</th>\n",
       "      <th>Coluna</th>\n",
       "      <th>Conta</th>\n",
       "      <th>Descrição Conta</th>\n",
       "      <th>Identificador da Conta</th>\n",
       "      <th>Valor</th>\n",
       "    </tr>\n",
       "  </thead>\n",
       "  <tbody>\n",
       "    <tr>\n",
       "      <th>727919</th>\n",
       "      <td>2022</td>\n",
       "      <td>VariaÃ§Ãµes Patrimoniais</td>\n",
       "      <td>Prefeitura Municipal de Delta - MG</td>\n",
       "      <td>3121258</td>\n",
       "      <td>MG</td>\n",
       "      <td>10994</td>\n",
       "      <td>31/12/2022</td>\n",
       "      <td>4.9.9.6.0.00.00</td>\n",
       "      <td>Indenizações</td>\n",
       "      <td>siconfi-cor_P4.9.9.6.0.00.00</td>\n",
       "      <td>92957.12</td>\n",
       "    </tr>\n",
       "    <tr>\n",
       "      <th>727920</th>\n",
       "      <td>2022</td>\n",
       "      <td>VariaÃ§Ãµes Patrimoniais</td>\n",
       "      <td>Prefeitura Municipal de Delta - MG</td>\n",
       "      <td>3121258</td>\n",
       "      <td>MG</td>\n",
       "      <td>10994</td>\n",
       "      <td>31/12/2022</td>\n",
       "      <td>4.9.9.6.1.00.00</td>\n",
       "      <td>Indenizações</td>\n",
       "      <td>siconfi-cor_P4.9.9.6.1.00.00</td>\n",
       "      <td>92957.12</td>\n",
       "    </tr>\n",
       "    <tr>\n",
       "      <th>727921</th>\n",
       "      <td>2022</td>\n",
       "      <td>VariaÃ§Ãµes Patrimoniais</td>\n",
       "      <td>Prefeitura Municipal de Delta - MG</td>\n",
       "      <td>3121258</td>\n",
       "      <td>MG</td>\n",
       "      <td>10994</td>\n",
       "      <td>31/12/2022</td>\n",
       "      <td>4.9.9.9.0.00.00</td>\n",
       "      <td>Variações Patrimoniais Aumentativas Decorrente...</td>\n",
       "      <td>siconfi-cor_P4.9.9.9.0.00.00</td>\n",
       "      <td>151859.17</td>\n",
       "    </tr>\n",
       "    <tr>\n",
       "      <th>727922</th>\n",
       "      <td>2022</td>\n",
       "      <td>VariaÃ§Ãµes Patrimoniais</td>\n",
       "      <td>Prefeitura Municipal de Delta - MG</td>\n",
       "      <td>3121258</td>\n",
       "      <td>MG</td>\n",
       "      <td>10994</td>\n",
       "      <td>31/12/2022</td>\n",
       "      <td>4.9.9.9.1.00.00</td>\n",
       "      <td>Variações Patrimoniais Aumentativas Decorrente...</td>\n",
       "      <td>siconfi-cor_P4.9.9.9.1.00.00</td>\n",
       "      <td>151859.17</td>\n",
       "    </tr>\n",
       "    <tr>\n",
       "      <th>727923</th>\n",
       "      <td>2022</td>\n",
       "      <td>VariaÃ§Ãµes Patrimoniais</td>\n",
       "      <td>Prefeitura Municipal de Delta - MG</td>\n",
       "      <td>3121258</td>\n",
       "      <td>MG</td>\n",
       "      <td>10994</td>\n",
       "      <td>31/12/2022</td>\n",
       "      <td>Sem Numero</td>\n",
       "      <td>Resultado Patrimonial do Período</td>\n",
       "      <td>siconfi-cor_ResultadoPatrimonialDoPeriodo</td>\n",
       "      <td>12502832.90</td>\n",
       "    </tr>\n",
       "  </tbody>\n",
       "</table>\n",
       "</div>"
      ],
      "text/plain": [
       "         Ano                      Tipo                         Instituição  \\\n",
       "727919  2022  VariaÃ§Ãµes Patrimoniais  Prefeitura Municipal de Delta - MG   \n",
       "727920  2022  VariaÃ§Ãµes Patrimoniais  Prefeitura Municipal de Delta - MG   \n",
       "727921  2022  VariaÃ§Ãµes Patrimoniais  Prefeitura Municipal de Delta - MG   \n",
       "727922  2022  VariaÃ§Ãµes Patrimoniais  Prefeitura Municipal de Delta - MG   \n",
       "727923  2022  VariaÃ§Ãµes Patrimoniais  Prefeitura Municipal de Delta - MG   \n",
       "\n",
       "           IBGE  UF  População      Coluna            Conta  \\\n",
       "727919  3121258  MG      10994  31/12/2022  4.9.9.6.0.00.00   \n",
       "727920  3121258  MG      10994  31/12/2022  4.9.9.6.1.00.00   \n",
       "727921  3121258  MG      10994  31/12/2022  4.9.9.9.0.00.00   \n",
       "727922  3121258  MG      10994  31/12/2022  4.9.9.9.1.00.00   \n",
       "727923  3121258  MG      10994  31/12/2022       Sem Numero   \n",
       "\n",
       "                                          Descrição Conta  \\\n",
       "727919                                       Indenizações   \n",
       "727920                                       Indenizações   \n",
       "727921  Variações Patrimoniais Aumentativas Decorrente...   \n",
       "727922  Variações Patrimoniais Aumentativas Decorrente...   \n",
       "727923                   Resultado Patrimonial do Período   \n",
       "\n",
       "                           Identificador da Conta        Valor  \n",
       "727919               siconfi-cor_P4.9.9.6.0.00.00     92957.12  \n",
       "727920               siconfi-cor_P4.9.9.6.1.00.00     92957.12  \n",
       "727921               siconfi-cor_P4.9.9.9.0.00.00    151859.17  \n",
       "727922               siconfi-cor_P4.9.9.9.1.00.00    151859.17  \n",
       "727923  siconfi-cor_ResultadoPatrimonialDoPeriodo  12502832.90  "
      ]
     },
     "execution_count": 78,
     "metadata": {},
     "output_type": "execute_result"
    }
   ],
   "source": [
    "full_df.tail()"
   ]
  },
  {
   "cell_type": "code",
   "execution_count": null,
   "metadata": {},
   "outputs": [
    {
     "data": {
      "text/plain": [
       "Ano                         int64\n",
       "Tipo                       object\n",
       "Instituição                object\n",
       "IBGE                        int64\n",
       "UF                         object\n",
       "População                   int64\n",
       "Coluna                     object\n",
       "Conta                      object\n",
       "Descrição Conta            object\n",
       "Identificador da Conta     object\n",
       "Valor                     float64\n",
       "dtype: object"
      ]
     },
     "execution_count": 79,
     "metadata": {},
     "output_type": "execute_result"
    }
   ],
   "source": [
    "full_df.dtypes"
   ]
  },
  {
   "cell_type": "code",
   "execution_count": null,
   "metadata": {},
   "outputs": [
    {
     "data": {
      "text/plain": [
       "85.2"
      ]
     },
     "execution_count": 88,
     "metadata": {},
     "output_type": "execute_result"
    }
   ],
   "source": [
    "full_df[\"Identificador da Conta\"].str.len().max()*1.2"
   ]
  },
  {
   "cell_type": "code",
   "execution_count": null,
   "metadata": {},
   "outputs": [],
   "source": []
  }
 ],
 "metadata": {
  "kernelspec": {
   "display_name": ".venv",
   "language": "python",
   "name": "python3"
  },
  "language_info": {
   "codemirror_mode": {
    "name": "ipython",
    "version": 3
   },
   "file_extension": ".py",
   "mimetype": "text/x-python",
   "name": "python",
   "nbconvert_exporter": "python",
   "pygments_lexer": "ipython3",
   "version": "3.11.5"
  },
  "orig_nbformat": 4
 },
 "nbformat": 4,
 "nbformat_minor": 2
}
