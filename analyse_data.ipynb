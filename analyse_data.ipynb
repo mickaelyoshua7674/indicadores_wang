{
 "cells": [
  {
   "cell_type": "code",
   "execution_count": 2,
   "metadata": {},
   "outputs": [],
   "source": [
    "import pandas as pd\n",
    "import os, json, re"
   ]
  },
  {
   "cell_type": "code",
   "execution_count": 2,
   "metadata": {},
   "outputs": [],
   "source": [
    "to_float = lambda x: x.replace(\",\", \".\")\n",
    "\n",
    "def get_conta(x:str) -> str:\n",
    "    if not re.fullmatch(\"[0-9]\", x[0]):\n",
    "        return \"Sem Conta\"\n",
    "    start_word_index = re.search(\"[a-zA-Z]{2,}\", x).start()\n",
    "    return x[:start_word_index]\n",
    "\n",
    "def get_des_conta(x:str) -> str:\n",
    "    if not re.fullmatch(\"[0-9]\", x[0]):\n",
    "        return x\n",
    "    start_word_index = re.search(\"[a-zA-Z]{2,}\", x).start()\n",
    "    return x[start_word_index:]\n",
    "\n",
    "with open(\"file_field.json\", \"r\", encoding=\"utf-8\") as f:\n",
    "    file_field = json.load(f)"
   ]
  },
  {
   "cell_type": "code",
   "execution_count": 3,
   "metadata": {},
   "outputs": [],
   "source": [
    "DATA_PATH = \"data\"\n",
    "COLUMNS_ORDER = [\"Ano\",\"Tipo\",\"Instituicao\",\"IBGE\",\"UF\",\"Populacao\",\"Coluna\",\"Conta\",\"Descricao_Conta\",\"Identificador_Conta\",\"Valor\"]\n",
    "def read_and_format_df(year:str, file_name:str) -> pd.DataFrame:\n",
    "    file_path = os.path.join(DATA_PATH,year,file_name)\n",
    "    df = pd.read_csv(file_path, sep=\";\", encoding=\"latin-1\", skiprows=3)\n",
    "    df[\"Valor\"] = df[\"Valor\"].apply(to_float)\n",
    "    df[\"Valor\"] = df[\"Valor\"].astype(float)\n",
    "    df[\"Descrição Conta\"] = df[\"Conta\"].apply(get_des_conta)\n",
    "    df[\"Conta\"] = df[\"Conta\"].apply(get_conta)\n",
    "    df[\"Ano\"] = int(year)\n",
    "    df[\"Tipo\"] = file_field[file_name]\n",
    "    df = df.rename(columns={\"Cod.IBGE\":\"IBGE\",\n",
    "                            \"Instituição\":\"Instituicao\",\n",
    "                            \"População\":\"Populacao\",\n",
    "                            \"Descrição Conta\":\"Descricao_Conta\",\n",
    "                            \"Identificador da Conta\":\"Identificador_Conta\"})\n",
    "    return df[COLUMNS_ORDER]\n"
   ]
  },
  {
   "cell_type": "code",
   "execution_count": 4,
   "metadata": {},
   "outputs": [
    {
     "data": {
      "text/plain": [
       "(5326271, 11)"
      ]
     },
     "execution_count": 4,
     "metadata": {},
     "output_type": "execute_result"
    }
   ],
   "source": [
    "files_names = os.listdir(os.path.join(DATA_PATH,\"2022\"))\n",
    "full_df = pd.concat([read_and_format_df(\"2022\",file_name) for file_name in files_names])\n",
    "full_df.shape"
   ]
  },
  {
   "cell_type": "code",
   "execution_count": 65,
   "metadata": {},
   "outputs": [],
   "source": [
    "def get_conta(x:str) -> str:\n",
    "    if not re.fullmatch(\"[0-9]\", x[0]):\n",
    "        return \"Sem Conta\"\n",
    "    start_word_index = re.search(\"[a-zA-Z]{2,}\", x).start()\n",
    "    return x[:start_word_index]"
   ]
  },
  {
   "cell_type": "code",
   "execution_count": 66,
   "metadata": {},
   "outputs": [
    {
     "data": {
      "text/plain": [
       "'1 '"
      ]
     },
     "execution_count": 66,
     "metadata": {},
     "output_type": "execute_result"
    }
   ],
   "source": [
    "test = \"1 srfhgsh\"\n",
    "m = get_conta(\"1 srfhgsh\")\n",
    "m"
   ]
  },
  {
   "cell_type": "code",
   "execution_count": 6,
   "metadata": {},
   "outputs": [],
   "source": [
    "test = \"3.6.1.7.3.00.00 - \"\n",
    "i = re.search(\"[^0-9\\.]\",test).start()"
   ]
  },
  {
   "cell_type": "code",
   "execution_count": 7,
   "metadata": {},
   "outputs": [
    {
     "data": {
      "text/plain": [
       "'3.6.1.7.3.00.00'"
      ]
     },
     "execution_count": 7,
     "metadata": {},
     "output_type": "execute_result"
    }
   ],
   "source": [
    "test[:i]"
   ]
  },
  {
   "cell_type": "code",
   "execution_count": null,
   "metadata": {},
   "outputs": [],
   "source": []
  }
 ],
 "metadata": {
  "kernelspec": {
   "display_name": "Python 3",
   "language": "python",
   "name": "python3"
  },
  "language_info": {
   "codemirror_mode": {
    "name": "ipython",
    "version": 3
   },
   "file_extension": ".py",
   "mimetype": "text/x-python",
   "name": "python",
   "nbconvert_exporter": "python",
   "pygments_lexer": "ipython3",
   "version": "3.11.5"
  },
  "orig_nbformat": 4
 },
 "nbformat": 4,
 "nbformat_minor": 2
}
